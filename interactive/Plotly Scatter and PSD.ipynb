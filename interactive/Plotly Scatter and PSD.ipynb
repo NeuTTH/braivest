{
 "cells": [
  {
   "cell_type": "code",
   "execution_count": 1,
   "id": "lesbian-composition",
   "metadata": {},
   "outputs": [
    {
     "name": "stdout",
     "output_type": "stream",
     "text": [
      "Connecting julwang@pioneer.cshl.edu:3306\n"
     ]
    }
   ],
   "source": [
    "import dash\n",
    "import dash_core_components as dcc\n",
    "import dash_html_components as html\n",
    "import plotly.express as px\n",
    "import pandas as pd\n",
    "from braivest.model.emgVAE import emgVAE\n",
    "import wandb\n",
    "import tensorflow as tf\n",
    "\n",
    "from braivest.analysis.wandb_utils import load_wandb_model\n",
    "from braivest.utils import load_data\n",
    "from braivest.model.emgVAE import emgVAE\n",
    "from braivest.preprocess.dataset_utils import bin_data\n",
    "from braivest.preprocess.wavelet_utils import get_wavelet_freqs\n",
    "from braivest.analysis.plotting_utils import *\n",
    "\n",
    "from scipy.signal import welch"
   ]
  },
  {
   "cell_type": "code",
   "execution_count": 2,
   "id": "about-apparatus",
   "metadata": {},
   "outputs": [],
   "source": [
    "external_stylesheets = ['https://codepen.io/chriddyp/pen/bWLwgP.css']\n",
    "app = dash.Dash(__name__, external_stylesheets=external_stylesheets)"
   ]
  },
  {
   "cell_type": "code",
   "execution_count": null,
   "id": "be87acd9",
   "metadata": {},
   "outputs": [],
   "source": [
    "with wandb.init(project=\"braivest_tutorial\", job_type=\"download\") as run:\n",
    "    artifact = run.use_artifact(\"analysis_set:v0\")\n",
    "    artifact_dir = artifact.download()\n",
    "subject0_sess = load_data(artifact_dir, 'sess_datas.npy', allow_pickle=True)\n",
    "hypno = load_data(artifact_dir, \"hypno.npy\", allow_pickle=True)"
   ]
  },
  {
   "cell_type": "code",
   "execution_count": 3,
   "id": "brown-above",
   "metadata": {},
   "outputs": [
    {
     "name": "stdout",
     "output_type": "stream",
     "text": [
      "WARNING:tensorflow:From /home/julia/miniconda3/envs/bs/lib/python3.8/site-packages/tensorflow/python/ops/linalg/linear_operator_lower_triangular.py:159: calling LinearOperator.__init__ (from tensorflow.python.ops.linalg.linear_operator) with graph_parents is deprecated and will be removed in a future version.\n",
      "Instructions for updating:\n",
      "Do not pass `graph_parents`.  They will  no longer be used.\n"
     ]
    },
    {
     "data": {
      "text/plain": [
       "<tensorflow.python.training.tracking.util.CheckpointLoadStatus at 0x7f6d61a2f580>"
      ]
     },
     "execution_count": 3,
     "metadata": {},
     "output_type": "execute_result"
    }
   ],
   "source": [
    "model = load_wandb_model(\"juliahwang/lfp_VAE/v2l9tltt\")\n",
    "encodings = tf.convert_to_tensor(model.encode(subject0_sess[0])).numpy()"
   ]
  },
  {
   "cell_type": "code",
   "execution_count": 4,
   "id": "distant-lebanon",
   "metadata": {},
   "outputs": [],
   "source": [
    "with wandb.init(project=\"braivest_tutorial\", job_type=\"download\") as run:\n",
    "    wavelet_artifact = run.use_artifact(\"wavelet_data:v0\")\n",
    "    wavelet_artifact_dir = wavelet_artifact.download()\n",
    "wavelet = load_data(wavelet_artifact_dir, \"lfp_wave_session{}.npy\".format(0), allow_pickle=True)\n",
    "binned_wavelet = bin_data(wavelet, original_sample=1000, sampling_rate=0.5)"
   ]
  },
  {
   "cell_type": "code",
   "execution_count": 7,
   "id": "patent-nutrition",
   "metadata": {},
   "outputs": [],
   "source": [
    "with wandb.init(project=\"braivest_tutorial\", job_type=\"download\") as run:\n",
    "    raw_artifact = run.use_artifact(\"raw_data:v0\")\n",
    "    raw_artifact_dir = raw_artifact.download()\n",
    "lfp = load_data(raw_artifact_dir, \"lfp_session{}.npy\".format(0), allow_pickle=True)\n",
    "emg = load_data(raw_artifact_dir, \"emg_session{}.npy\".format(0), allow_pickle=True)\n",
    "binned_lfp = bin_data(lfp, original_sample=1000, sampling_rate=0.5)\n",
    "f, Pxx = welch(binned_lfp, fs=1000)"
   ]
  },
  {
   "cell_type": "code",
   "execution_count": 8,
   "id": "passive-characteristic",
   "metadata": {},
   "outputs": [],
   "source": [
    "@app.callback(dash.dependencies.Output('encodings', 'figure'),\n",
    "[ dash.dependencies.Input('color', 'value')])\n",
    "def create_scatter(color):\n",
    "    val_hypno = hypno\n",
    "    if color == 'expert':\n",
    "        hypno_unique = np.unique(val_hypno)\n",
    "        encodings = encodings[:len(val_hypno)]\n",
    "        legend = {hypno_unique[0]:'REM',hypno_unique[1]:'SWS',hypno_unique[2]:'Wake', hypno_unique[3]:'X'}\n",
    "        color_map = {'REM':\"#0000ff\", \"Wake\":\"#ff0000\", \"SWS\":\"#00ff00\"}\n",
    "        fig = plot_encodings(encodings=encodings, color=[legend[i] for i in val_hypno], color_map=color_map, x_range=(-6, 3))\n",
    "    else:\n",
    "        bands = {'delta': (0, 2), 'theta': (2, 4), 'beta': (4, 8), 'gamma': (8, 13)}\n",
    "        start, stop = bands[color]\n",
    "        color = get_feature_color(Pxx, f, start, stop)\n",
    "        fig = plot_encodings(encodings, color=color, x_range = (-6, 3), scatter_kwargs={'color_continuous_scale': 'portland', 'range_color': (-3, 3)})\n",
    "    return fig"
   ]
  },
  {
   "cell_type": "code",
   "execution_count": 9,
   "id": "willing-stand",
   "metadata": {},
   "outputs": [],
   "source": [
    "fig = create_scatter()"
   ]
  },
  {
   "cell_type": "code",
   "execution_count": 10,
   "id": "geographic-serial",
   "metadata": {},
   "outputs": [],
   "source": [
    "app.layout = html.Div([\n",
    "    html.Div([\n",
    "        dcc.Dropdown(\n",
    "            id='color',\n",
    "            options=[\n",
    "                {'label': 'expert', 'value': 'expert'},\n",
    "                {'label': 'delta', 'value': 'delta'},\n",
    "                {'label': 'theta', 'value': 'theta'},\n",
    "                {'label': 'beta', 'value': 'beta'},\n",
    "                {'label': 'gamma', 'value': 'gamma'}\n",
    "            ],\n",
    "            value='expert'\n",
    "        ),\n",
    "        dcc.Graph(\n",
    "            id='encodings'\n",
    "        ),\n",
    "    ], style={'width': '49%', 'display': 'inline-block', 'padding': '0 20'}),\n",
    "    html.Div([\n",
    "        dcc.Graph(id='raw'),\n",
    "        dcc.Graph(id='emg'),\n",
    "        dcc.Graph(id='original'),\n",
    "    ], style={'display': 'inline-block', 'width': '49%'})\n",
    "])"
   ]
  },
  {
   "cell_type": "code",
   "execution_count": 11,
   "id": "polished-neighbor",
   "metadata": {},
   "outputs": [],
   "source": [
    "freqs = get_wavelet_freqs(0.5, 50, 30)"
   ]
  },
  {
   "cell_type": "code",
   "execution_count": 12,
   "id": "opened-property",
   "metadata": {},
   "outputs": [],
   "source": [
    "@app.callback(\n",
    "    dash.dependencies.Output('raw', 'figure'),\n",
    "    [dash.dependencies.Input('encodings', 'clickData')])\n",
    "def update_raw(hoverData):\n",
    "    x = hoverData['points'][0]['x']\n",
    "    y = hoverData['points'][0]['y']\n",
    "    index = np.where(encodings == [x, y])[0][0]\n",
    "    raw_index = index*2000\n",
    "    data = lfp[raw_index - 5000: raw_index + 7000]\n",
    "    fig = px.line(x=np.arange(-5, 7, 1/1000), y = data, title=\"Raw Data\")\n",
    "    fig.add_vrect( x0=0, x1=2, fillcolor=\"LightSalmon\", opacity=0.5, layer=\"below\", line_width=0)\n",
    "    fig.update_layout(height=225, margin={'l': 20, 'b': 30, 'r': 10, 't': 10})\n",
    "    return fig"
   ]
  },
  {
   "cell_type": "code",
   "execution_count": 13,
   "id": "trained-going",
   "metadata": {},
   "outputs": [],
   "source": [
    "@app.callback(\n",
    "    dash.dependencies.Output('emg', 'figure'),\n",
    "    [dash.dependencies.Input('encodings', 'clickData')])\n",
    "def update_raw_emg(hoverData):\n",
    "    x = hoverData['points'][0]['x']\n",
    "    y = hoverData['points'][0]['y']\n",
    "    index = np.where(encodings == [x, y])[0][0]\n",
    "    raw_index = index*2000\n",
    "    data = emg[raw_index - 5000: raw_index + 7000]\n",
    "    fig = px.line(x=np.arange(-5, 7, 1/1000), y = data, title=\"Raw Data\", range_y = (-1.1, 1.1))\n",
    "    fig.add_vrect( x0=0, x1=2, fillcolor=\"LightSalmon\", opacity=0.5, layer=\"below\", line_width=0)\n",
    "    fig.update_layout(height=225, margin={'l': 20, 'b': 30, 'r': 10, 't': 10})\n",
    "    return fig"
   ]
  },
  {
   "cell_type": "code",
   "execution_count": 14,
   "id": "automatic-policy",
   "metadata": {},
   "outputs": [],
   "source": [
    "@app.callback(\n",
    "    dash.dependencies.Output('original', 'figure'),\n",
    "    [dash.dependencies.Input('encodings', 'clickData')])\n",
    "def update_original(hoverData):\n",
    "    x = hoverData['points'][0]['x']\n",
    "    y = hoverData['points'][0]['y']\n",
    "    index = np.where(encodings == [x, y])[0][0]\n",
    "    data = binned_wavelet[index, :30]\n",
    "    fig = px.line(x=freqs, y = data, title=\"Original No Scaling\")\n",
    "    fig.update_layout(height=225, margin={'l': 20, 'b': 30, 'r': 10, 't': 10})\n",
    "    return fig"
   ]
  },
  {
   "cell_type": "code",
   "execution_count": null,
   "id": "neural-denver",
   "metadata": {
    "scrolled": false
   },
   "outputs": [
    {
     "name": "stdout",
     "output_type": "stream",
     "text": [
      "Dash is running on http://127.0.0.1:8050/\n",
      "\n",
      " * Serving Flask app \"__main__\" (lazy loading)\n",
      " * Environment: production\n",
      "\u001b[31m   WARNING: This is a development server. Do not use it in a production deployment.\u001b[0m\n",
      "\u001b[2m   Use a production WSGI server instead.\u001b[0m\n",
      " * Debug mode: on\n"
     ]
    }
   ],
   "source": [
    "app.run_server(debug=True, use_reloader=False)"
   ]
  }
 ],
 "metadata": {
  "kernelspec": {
   "display_name": "Python 3.9.12 ('bs': conda)",
   "language": "python",
   "name": "python3"
  },
  "language_info": {
   "codemirror_mode": {
    "name": "ipython",
    "version": 3
   },
   "file_extension": ".py",
   "mimetype": "text/x-python",
   "name": "python",
   "nbconvert_exporter": "python",
   "pygments_lexer": "ipython3",
   "version": "3.9.12"
  },
  "vscode": {
   "interpreter": {
    "hash": "e8f7389857a67e13edb5c3f00a3f763f3f77988fd78555eef11cd2d761496f8e"
   }
  }
 },
 "nbformat": 4,
 "nbformat_minor": 5
}
