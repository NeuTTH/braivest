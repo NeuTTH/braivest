{
 "cells": [
  {
   "cell_type": "code",
   "execution_count": null,
   "metadata": {},
   "outputs": [],
   "source": [
    "import wandb\n",
    "\n",
    "from braivest.utils import load_wandb_model\n",
    "from braivest.model.emgVAE import emgVAE\n",
    "import plotly.express as px\n",
    "from braivest.preprocess.dataset_utils import load_data\n",
    "from braivest.analysis.plotting_utils import *\n",
    "import tensorflow as tf\n",
    "import numpy as np\n",
    "\n",
    "import matplotlib.pyplot as plt\n",
    "import matplotlib\n",
    "\n",
    "matplotlib.rcParams['pdf.fonttype'] = 42\n",
    "matplotlib.rcParams['ps.fonttype'] = 42\n",
    "import pickle\n",
    "from sklearn.mixture import GaussianMixture\n",
    "from sklearn import metrics\n",
    "import seaborn as sns"
   ]
  },
  {
   "cell_type": "code",
   "execution_count": null,
   "metadata": {},
   "outputs": [],
   "source": [
    "artifact_dir = \"../../train_scripts/artifacts/probe12_subject4_test2:v0\"\n",
    "train = load_data(artifact_dir, 'train.npy', allow_pickle=True)\n",
    "test = load_data(artifact_dir, 'test.npy', allow_pickle=True)\n",
    "val_hypno = load_data(artifact_dir, 'hypno.npy', allow_pickle=True)[0]\n"
   ]
  },
  {
   "cell_type": "code",
   "execution_count": null,
   "metadata": {},
   "outputs": [],
   "source": [
    "model =load_wandb_model(\"juliahwang/lfp_VAE/bhyp8z3h\")\n",
    "encodings = model.encode(test)\n",
    "train_encodings = model.encode(train)"
   ]
  },
  {
   "cell_type": "code",
   "execution_count": null,
   "metadata": {},
   "outputs": [],
   "source": [
    "# First plot colored by hypno\n",
    "\n",
    "hypno_unique = np.unique(val_hypno)\n",
    "legend = {hypno_unique[0]:'REM',hypno_unique[1]:'SWS',hypno_unique[2]:'Wake', hypno_unique[3]: 'X'}\n",
    "color_map = {'REM':\"#0000ff\", \"Wake\":\"#ff0000\", \"SWS\":\"#00ff00\", 'X': 'purple'}\n",
    "fig = plot_encodings(encodings=encodings, color=[legend[i] for i in val_hypno], color_map=color_map, x_range=(-2, 2))\n",
    "fig.show()"
   ]
  },
  {
   "cell_type": "code",
   "execution_count": null,
   "metadata": {},
   "outputs": [],
   "source": [
    "\n",
    "gmm_diag = GaussianMixture(n_components=3, covariance_type='full', means_init=[[-3, -1], [1, -1], [-1, 1.5]], reg_covar=1e-3, n_init=20)\n",
    "gmm_diag.fit(train_encodings) \n",
    "labels=gmm_diag.predict(encodings)\n"
   ]
  },
  {
   "cell_type": "code",
   "execution_count": null,
   "metadata": {},
   "outputs": [],
   "source": [
    "fig = plot_encodings(encodings, color=labels, x_range=(-6, 3))\n",
    "fig.show()"
   ]
  },
  {
   "cell_type": "code",
   "execution_count": null,
   "metadata": {},
   "outputs": [],
   "source": [
    "# Plot confusion matrix\n",
    "val_hypno_temp = val_hypno + 3\n",
    "confusion = metrics.confusion_matrix(val_hypno_temp, labels[:len(val_hypno_temp)])[:3, :3]\n",
    "sums = np.sum(confusion, axis=1)[:, np.newaxis]\n",
    "sns.heatmap(confusion/sums, annot=True, xticklabels=['REM', 'SWS', 'Wake'], yticklabels=['REM', 'SWS', 'Wake'], cmap = 'Blues')\n",
    "plt.tick_params(axis='x', which='both', bottom=False, top=False)\n",
    "plt.tick_params(axis='y', which='both', left=False)"
   ]
  }
 ],
 "metadata": {
  "kernelspec": {
   "display_name": "Python 3.9.12 ('bs')",
   "language": "python",
   "name": "python3"
  },
  "language_info": {
   "name": "python",
   "version": "3.9.12"
  },
  "orig_nbformat": 4,
  "vscode": {
   "interpreter": {
    "hash": "e8f7389857a67e13edb5c3f00a3f763f3f77988fd78555eef11cd2d761496f8e"
   }
  }
 },
 "nbformat": 4,
 "nbformat_minor": 2
}
