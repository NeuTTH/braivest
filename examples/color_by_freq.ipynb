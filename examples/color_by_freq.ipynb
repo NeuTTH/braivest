{
 "cells": [
  {
   "cell_type": "code",
   "execution_count": null,
   "metadata": {},
   "outputs": [],
   "source": [
    "from braivest.utils import load_wandb_model\n",
    "from braivest.model.emgVAE import emgVAE\n",
    "from braivest.preprocess.dataset_utils import load_data, bin_data\n",
    "from braivest.analysis.plotting_utils import *\n",
    "import plotly.express as px\n",
    "import wandb\n",
    "import tensorflow as tf\n",
    "import matplotlib.pyplot as plt\n",
    "\n",
    "from scipy.signal import welch\n",
    "from scipy.stats import zscore"
   ]
  },
  {
   "cell_type": "code",
   "execution_count": null,
   "metadata": {},
   "outputs": [],
   "source": [
    "#lfp =\n",
    "#emg = \n",
    "binned_lfp = bin_data(lfp, original_sample=1000, sampling_rate=0.5)"
   ]
  },
  {
   "cell_type": "code",
   "execution_count": null,
   "metadata": {},
   "outputs": [],
   "source": [
    "#val_data_artifact_dir = \n",
    "subject0_sess = load_data(artifact_dir, 'subject0_vis11_val.npy', allow_pickle=True)"
   ]
  },
  {
   "cell_type": "code",
   "execution_count": null,
   "metadata": {},
   "outputs": [],
   "source": [
    "model = load_wandb_model(\"juliahwang/lfp_VAE/v2l9tltt\")\n",
    "encodings = tf.convert_to_tensor(model.encode(subject0_sess[0][0])).numpy()"
   ]
  },
  {
   "cell_type": "code",
   "execution_count": null,
   "metadata": {},
   "outputs": [],
   "source": [
    "f, Pxx = welch(binned_lfp, fs=1000)"
   ]
  },
  {
   "cell_type": "code",
   "execution_count": null,
   "metadata": {},
   "outputs": [],
   "source": [
    "# Let's see what frequencies there are:\n",
    "f"
   ]
  },
  {
   "cell_type": "code",
   "execution_count": null,
   "metadata": {},
   "outputs": [],
   "source": [
    "BAND = 'delta' #change this manually\n",
    "bands = {'delta': (0, 2), 'theta': (2, 4), 'beta': (4, 8), 'gamma': (8, 13)}\n",
    "start, stop = bands[BAND]\n",
    "color = get_feature_color(Pxx, f, start, stop)\n",
    "fig = plot_encodings(encodings, color=color, x_range = (-6, 3), scatter_kwargs={'color_continuous_scale': 'portland', 'range_color': (-3, 3)})\n",
    "fig.show()"
   ]
  }
 ],
 "metadata": {
  "kernelspec": {
   "display_name": "Python 3.9.12 ('bs')",
   "language": "python",
   "name": "python3"
  },
  "language_info": {
   "name": "python",
   "version": "3.9.12"
  },
  "orig_nbformat": 4,
  "vscode": {
   "interpreter": {
    "hash": "e8f7389857a67e13edb5c3f00a3f763f3f77988fd78555eef11cd2d761496f8e"
   }
  }
 },
 "nbformat": 4,
 "nbformat_minor": 2
}
